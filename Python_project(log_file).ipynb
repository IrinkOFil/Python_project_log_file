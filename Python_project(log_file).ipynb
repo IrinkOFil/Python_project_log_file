{
 "cells": [
  {
   "cell_type": "markdown",
   "id": "ba34620f",
   "metadata": {},
   "source": [
    "# Parsing log file"
   ]
  },
  {
   "cell_type": "markdown",
   "id": "2f1103ec",
   "metadata": {},
   "source": [
    "## Objectives\n",
    "*   Use regex to parse a log file\n",
    "*   Append and modify values in a dictionary \n",
    "*   Write to a file in CSV format "
   ]
  },
  {
   "cell_type": "code",
   "execution_count": null,
   "id": "c1a1cb10",
   "metadata": {},
   "outputs": [],
   "source": [
    "#import libraries\n",
    "import re\n",
    "import operator\n",
    "import csv\n",
    "\n",
    "#declare dictionaries to record user and error data \n",
    "error_messages = {}\n",
    "per_user = {}\n",
    "\n",
    "#open file to read lines and find needed data\n",
    "with open(\"syslog.log\", \"r\") as file:\n",
    "    for line in file:\n",
    "    # Ex.: May 27 11:45:40 ubuntu.local ticky: INFO: Created ticket [#1234] (max)\n",
    "        text = re.search(r\"([A-Z]*): ([\\w ']*) [\\[\\]\\d# ]*\\(([\\w\\.]*)\\)\", line) \n",
    "        name = text.group(1) # ERROR or INFO\n",
    "        error = text.group(2) # error message\n",
    "        user = text.group(3) # username\n",
    "        if name == \"ERROR\":\n",
    "            if error not in error_messages.keys():\n",
    "                error_messages[error] = 1\n",
    "            else:\n",
    "                error_messages[error] += 1\n",
    "            if user not in per_user.keys():\n",
    "                per_user[user] = {'INFO': 0, 'ERROR': 1}\n",
    "            else:\n",
    "                per_user[user]['ERROR'] += 1\n",
    "        if name == \"INFO\":\n",
    "            if user not in per_user.keys():\n",
    "                per_user[user] = {'INFO': 1, 'ERROR': 0}\n",
    "            else:\n",
    "                per_user[user]['INFO'] += 1"
   ]
  },
  {
   "cell_type": "code",
   "execution_count": null,
   "id": "251e0c5b",
   "metadata": {},
   "outputs": [],
   "source": [
    "# sort dictionaries \n",
    "list_of_errors = sorted(error_messages.items(), key = operator.itemgetter(1), reverse=True)\n",
    "list_of_users = sorted(per_user.items(), key=operator.itemgetter(0))  "
   ]
  },
  {
   "cell_type": "code",
   "execution_count": null,
   "id": "360731fd",
   "metadata": {},
   "outputs": [],
   "source": [
    "# write to csv\n",
    "with open('error_message.csv', 'w') as e:\n",
    "    writer = csv.writer(e)\n",
    "    #write the header\n",
    "    writer.writerow([\"Error\",\"Count\"])\n",
    "    writer.writerows(list_of_errors)\n",
    "\n",
    "with open('user_statistics.csv', 'w') as u:\n",
    "    writer = csv.writer(u)\n",
    "    #write the header\n",
    "    writer.writerow([\"Username\", \"INFO\", \"ERROR\"])\n",
    "    for item in list_of_users: \n",
    "        user, typelog = item\n",
    "        line = [user,typelog[\"INFO\"],typelog[\"ERROR\"]]\n",
    "        writer.writerow(line)"
   ]
  }
 ],
 "metadata": {
  "kernelspec": {
   "display_name": "Python 3 (ipykernel)",
   "language": "python",
   "name": "python3"
  },
  "language_info": {
   "codemirror_mode": {
    "name": "ipython",
    "version": 3
   },
   "file_extension": ".py",
   "mimetype": "text/x-python",
   "name": "python",
   "nbconvert_exporter": "python",
   "pygments_lexer": "ipython3",
   "version": "3.9.7"
  }
 },
 "nbformat": 4,
 "nbformat_minor": 5
}
